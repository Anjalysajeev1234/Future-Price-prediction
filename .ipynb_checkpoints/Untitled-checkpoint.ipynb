{
 "cells": [
  {
   "cell_type": "code",
   "execution_count": null,
   "metadata": {},
   "outputs": [],
   "source": [
    "# #PREDICTING FUTURE PRODUCT PRICES USING FACEBOOK PROPHET\n",
    "# TASK 1:PROJECT OVERVIEW\n",
    "#     #IN THIS PROJECT FUTURE PRICE OF AVOCADOS CAN BE PREDICTED\n",
    "#     #PROPHET IS AN OPEN SOURCE TOOL USED FOR TIME SERIES FORCASTING\n",
    "# TASK 2:IMPORT LIBRARIES AND DATA SET"
   ]
  },
  {
   "cell_type": "code",
   "execution_count": null,
   "metadata": {},
   "outputs": [],
   "source": [
    "import pandas as pd\n",
    "import numpy as np\n",
    "import matplot.pyplot as plt\n",
    "import random\n",
    "import seaborn as sns\n",
    "import fbprophet as Prophet"
   ]
  },
  {
   "cell_type": "code",
   "execution_count": null,
   "metadata": {},
   "outputs": [],
   "source": [
    "avocado_df=pd.read_csv('avocado.csv')"
   ]
  },
  {
   "cell_type": "code",
   "execution_count": null,
   "metadata": {},
   "outputs": [],
   "source": [
    "# DATAFRAME CREATION FOR BOTH TRAINING AND TEST DATASET\n",
    "# Date:date of observation\n",
    "# AveragePrice:average price of avocado\n",
    "# type:conventional or organic\n",
    "year:the year\n",
    "Region:The city or region of observation\n",
    "Total Volume:Total number of avocados sold\n",
    "4046:total number of avocados with PLU numer 4046 sold\n",
    "4225:total number of avocados with PLU numer 4225 sold\n",
    "4770:total number of avocados with PLU numer 4770 sold"
   ]
  },
  {
   "cell_type": "code",
   "execution_count": null,
   "metadata": {},
   "outputs": [],
   "source": [
    "avocado_df.head()"
   ]
  },
  {
   "cell_type": "code",
   "execution_count": null,
   "metadata": {},
   "outputs": [],
   "source": [
    "avocado_df.tail(10)"
   ]
  },
  {
   "cell_type": "code",
   "execution_count": null,
   "metadata": {
    "collapsed": true
   },
   "outputs": [],
   "source": [
    "avocado_df.describe()"
   ]
  },
  {
   "cell_type": "code",
   "execution_count": null,
   "metadata": {},
   "outputs": [],
   "source": [
    "avocado_df.isnull().sum()"
   ]
  },
  {
   "cell_type": "code",
   "execution_count": null,
   "metadata": {},
   "outputs": [],
   "source": []
  },
  {
   "cell_type": "code",
   "execution_count": null,
   "metadata": {},
   "outputs": [],
   "source": []
  }
 ],
 "metadata": {
  "kernelspec": {
   "display_name": "Python 3",
   "language": "python",
   "name": "python3"
  },
  "language_info": {
   "codemirror_mode": {
    "name": "ipython",
    "version": 3
   },
   "file_extension": ".py",
   "mimetype": "text/x-python",
   "name": "python",
   "nbconvert_exporter": "python",
   "pygments_lexer": "ipython3",
   "version": "3.7.4"
  }
 },
 "nbformat": 4,
 "nbformat_minor": 2
}
